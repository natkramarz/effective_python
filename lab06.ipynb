{
 "cells": [
  {
   "cell_type": "markdown",
   "metadata": {},
   "source": [
    "## Lab 06"
   ]
  },
  {
   "cell_type": "markdown",
   "metadata": {},
   "source": [
    "### Zadanie 1 - Regexy"
   ]
  },
  {
   "cell_type": "markdown",
   "metadata": {},
   "source": [
    "Przejdź 15 zadań ze strony http://regexone.com/"
   ]
  },
  {
   "cell_type": "markdown",
   "metadata": {},
   "source": [
    "### Zadanie 2 - Regexy"
   ]
  },
  {
   "cell_type": "markdown",
   "metadata": {},
   "source": [
    "_Atoms_\n",
    "\n",
    "Napisz program, który (używając wyrażeń regularnych) przefiltruje plik atoms.log tak by pozostały jedynie linie dot. bezproblemowego przebiegu eksperymentu.\n",
    "czyli np. powinny zostać odrzucone takie linie jak\n",
    "```\n",
    "RUN 000039 COMPLETED. OUTPUT IN FILE yttrium.dat. 1 UNDERFLOW WARNING.\n",
    "```\n",
    "czy\n",
    "```\n",
    "RUN 000058 COMPLETED. OUTPUT IN FILE cerium.dat. ALGORITHM DID NOT CONVERGE AFTER 100000 ITERATIONS.\n",
    "```\n",
    "można jedynie założyć, że każda linijka pasuje do poniższego schematu\n",
    "```\n",
    "RUN [[NUMER Z DOKŁADNIE 6 CYFR]] COMPLETED. OUTPUT IN FILE [[NAZWA]].dat. [[COKOLWIEK]]\n",
    "```"
   ]
  },
  {
   "cell_type": "code",
   "execution_count": 5,
   "metadata": {
    "collapsed": true
   },
   "outputs": [
    {
     "name": "stdout",
     "output_type": "stream",
     "text": [
      "RUN 000039 COMPLETED. OUTPUT IN FILE yttrium.dat.\n",
      "\n"
     ]
    }
   ],
   "source": [
    "import re\n",
    "\n",
    "pattern = \"RUN \\d{6} COMPLETED\\. OUTPUT IN FILE [\\w_]+\\.dat\\.(.+)\\n$\"\n",
    "atoms = [\"RUN 000039 COMPLETED. OUTPUT IN FILE yttrium.dat. 1 UNDERFLOW WARNING.\\n\", \"RUN 000058 COMPLETED. OUTPUT IN FILE cerium.dat. ALGORITHM DID NOT CONVERGE AFTER 100000 ITERATIONS.\\n\", \n",
    "\"RUN 000039 COMPLETED. OUTPUT IN FILE yttrium.dat.\\n\"]\n",
    "#with open('atoms.log') as atoms:\n",
    "for line in atoms:\n",
    "    if re.search(pattern, line) is None:\n",
    "        print(line)"
   ]
  },
  {
   "cell_type": "markdown",
   "metadata": {},
   "source": [
    "### Zadanie 3 - Regexy"
   ]
  },
  {
   "cell_type": "markdown",
   "metadata": {},
   "source": [
    "_Messages_\n",
    "\n",
    "Napisz program który wypisze linie z logu systemowego \"messages.txt\" które zawierają informacje o nieprawidłowej nazwie użytkownika (invalid user)"
   ]
  },
  {
   "cell_type": "code",
   "execution_count": 120,
   "metadata": {
    "collapsed": true
   },
   "outputs": [
    {
     "name": "stdout",
     "output_type": "stream",
     "text": [
      "Niepoprawna nazwa użytkownika: \"tester\", połączenie z 218.189.194.200 nawiązano 29 czerwca o godz. 20:18\n"
     ]
    }
   ],
   "source": [
    "import re\n",
    "pattern = \"(([a-zA-Z]{3}) (\\d\\d) ((2[0-3]|0[0-9]|1[0-9]):(0[0-9]|[1-5][0-9]):(0[0-9]|[1-5][0-9]))) .*: Invalid user ([A-Za-z]+) from (((25[0-5]|(2[0-4]|1\\d|[1-9]|)\\d)\\.?\\\\b){4})\" \n",
    "months_dict = {\n",
    "    \"jan\": \"stycznia\", \n",
    "    \"feb\": \"lutego\", \n",
    "    \"mar\": \"marca\", \n",
    "    \"apr\": \"kwietnia\", \n",
    "    \"may\": \"maja\", \n",
    "    \"jun\": \"czerwca\", \n",
    "    \"jul\": \"lipca\", \n",
    "    \"aug\": \"sierpnia\", \n",
    "    \"sep\": \"września\",\n",
    "    \"oct\": \"października\", \n",
    "    \"nov\": \"listopada\", \n",
    "    \"dec\": \"grudnia\"\n",
    "}\n",
    "\n",
    "with open('messages.txt') as messages:\n",
    "    for line in messages:\n",
    "        result = re.search(pattern, line)\n",
    "        if result:\n",
    "            groups = result.groups()\n",
    "            month = groups[1].lower()\n",
    "            if month in months_dict:\n",
    "                print(f'Niepoprawna nazwa użytkownika: \"{groups[7]}\", połączenie z {groups[8]} nawiązano {groups[2]} {months_dict[month]} o godz. {groups[4]}:{groups[5]}')"
   ]
  },
  {
   "cell_type": "markdown",
   "metadata": {},
   "source": [
    "Przerób program tak, żeby wyświetlał sformatowane komunikaty, tzn.\n",
    "```\n",
    "Jun 29 20:18:40 noether sshd[5805]: Invalid user tester from 218.189.194.200\n",
    "```\n",
    "powinno zostać przerobione na\n",
    "```\n",
    "Niepoprawna nazwa użytkownika: \"tester\", połaczenie z 218.189.194.200 nawiązano 29 czerwca o godz. 20:18\n",
    "```"
   ]
  },
  {
   "cell_type": "markdown",
   "metadata": {},
   "source": [
    "### Zadanie 4 - Collections\n",
    "Uzupenij ponizsze funckje korzystajac z zaimporotwanych klas"
   ]
  },
  {
   "cell_type": "code",
   "execution_count": 21,
   "metadata": {
    "collapsed": true
   },
   "outputs": [
    {
     "name": "stdout",
     "output_type": "stream",
     "text": [
      "True\n",
      "True\n",
      "True\n"
     ]
    }
   ],
   "source": [
    "from collections import defaultdict\n",
    "\n",
    "def count_letters(word):\n",
    "    \"\"\" Zwraca slownik gdzie kluczami sa litery, a wartosci ilosc ich wystepowania \"\"\"\n",
    "    def default_value():\n",
    "        return 0\n",
    "    d = defaultdict(default_value)\n",
    "    for char in word:\n",
    "        d[char] = d[char] + 1\n",
    "    return d\n",
    "\n",
    "\n",
    "print(count_letters('aaaaa') == {'a': 5})\n",
    "print(count_letters('abbccaaaa') == {'a': 5, 'b': 2, 'c': 2})\n",
    "print(count_letters('abc') == {'a': 1, 'b': 1, 'c': 1})"
   ]
  },
  {
   "cell_type": "code",
   "execution_count": 20,
   "metadata": {
    "collapsed": true
   },
   "outputs": [
    {
     "name": "stdout",
     "output_type": "stream",
     "text": [
      "True\n",
      "True\n",
      "True\n"
     ]
    }
   ],
   "source": [
    "def group_words_by_first_letter(text):\n",
    "    \"\"\" Dzieli tekst po spacjach i zwraca slownik gdzie kluczami sa pierwsze litery, a wartosciami listy slow zaczynajacych sie na te litery\"\"\"\n",
    "    words = text.split(' ')\n",
    "    def default_value():\n",
    "        return []\n",
    "    d = defaultdict(default_value)\n",
    "    for word in words:\n",
    "        d[word[0]].append(word)\n",
    "    return d\n",
    "\n",
    "print(group_words_by_first_letter(\"ala ma kota\") == {'a': ['ala'], 'm': ['ma'], 'k': ['kota']})\n",
    "print(group_words_by_first_letter(\"ala ma kota ala ma psa\") == {'a': ['ala', 'ala'], 'm': ['ma', 'ma'], 'k': ['kota'], 'p': ['psa']})   \n",
    "print(group_words_by_first_letter(\"ala ma kota ale marysia ma konia\") == {'a': ['ala', 'ale'], 'm': ['ma', 'marysia', 'ma'], 'k': ['kota', 'konia']})"
   ]
  },
  {
   "cell_type": "markdown",
   "metadata": {},
   "source": [
    "### Zadanie 5 - Klasy\n",
    "Uzupełnij brakujące metody poniższej klasy."
   ]
  },
  {
   "cell_type": "code",
   "execution_count": 77,
   "metadata": {
    "collapsed": true
   },
   "outputs": [
    {
     "name": "stdout",
     "output_type": "stream",
     "text": [
      "True\n",
      "True\n",
      "True\n",
      "True\n",
      "True\n",
      "True\n",
      "True\n",
      "True\n",
      "{{'ala': 4}, {'ala': 2}, {'ala': 1, 'jacek': 0}}\n"
     ]
    }
   ],
   "source": [
    "import copy\n",
    "\n",
    "class FrozenDictionary(object):\n",
    "    \"\"\"\n",
    "    Odpowiednik frozenset dla zbiorów, czyli słownik, który nie jest modyfikowalny,\n",
    "    a dzięki temu może być np. elementem zbiorów, albo kluczem w innym słowniku.\n",
    "    \"\"\"\n",
    "    \n",
    "    def __init__(self, dictionary):\n",
    "        \"\"\"Tworzy nowy zamrożony słownik z podanego słownika\"\"\"\n",
    "        self.dictionary = copy.deepcopy(dictionary)\n",
    "        self.dict_as_str = str(self.dictionary)\n",
    "        self.sorted_items = sorted(self.dictionary.items())\n",
    "    \n",
    "    def __hash__(self):\n",
    "        \"\"\"Zwraca hasz słownika (int)\"\"\"\n",
    "        return hash(str(self.sorted_items))\n",
    "    \n",
    "    def __eq__(self, d):\n",
    "        \"\"\"Porównuje nasz słownik z zamrożonym słownikiem d\"\"\"\n",
    "        for key, item in d.dictionary.items():\n",
    "            if key not in self.dictionary:\n",
    "                return False\n",
    "            elif self.dictionary[key] != item:\n",
    "                return False \n",
    "        return True\n",
    "    \n",
    "    def __repr__(self):\n",
    "        \"\"\"Zwraca reprezentację naszego słownika jako string\"\"\"\n",
    "        return str(self.dictionary)\n",
    "        \n",
    "dicts = [FrozenDictionary({'ala': 4}), \n",
    "         FrozenDictionary({'ala': 1, 'jacek': 0}),\n",
    "         FrozenDictionary({'ala': 4}), \n",
    "         FrozenDictionary({'ala': 2}), \n",
    "         FrozenDictionary({'jacek': 0, 'ala': 1})]\n",
    "\n",
    "s = set(dicts)\n",
    "print(dicts[0] == dicts[2])\n",
    "print(dicts[0] != dicts[3])\n",
    "print(len(s) == 3)\n",
    "for d in dicts:\n",
    "    print(d in s)\n",
    "\n",
    "# Powinno wyświetlić coś w stylu set([{'ala': 4}, {'ala': 1, 'jacek': 0}, {'ala': 2}])\n",
    "print(s)"
   ]
  },
  {
   "cell_type": "markdown",
   "metadata": {},
   "source": [
    "### Zadanie 6 - Bag of Words\n",
    "Napisz klasę \"Bag of words\", która będzie \"workiem słów\" z zadanego dokumentu. Oznacza to, że ma w sobie przechowywać informacje o tym ile razy każde słowo wystąpiło w dokumencie. Dodatkowo ma udostępniać następującą funkcjonalność:\n",
    "* Można utworzyć go na dwa sposoby:\n",
    "```\n",
    "bow = BagOfWords(\"ala ma kota ala ma ala\")\n",
    "bow = BagOfWords(open(\"plik.txt\"))\n",
    "```\n",
    "* Możliwość wyświetlania go po prostu pisząc print(bow) (kolejność taka sama jak przy przeglądaniu forem)\n",
    "```\n",
    "ala:3, ma:2, kota:1\n",
    "```\n",
    "* Sprawdzanie czy jakieś słowo należy do naszego worka pisząc\n",
    "```\n",
    "if 'ala' in bow:\n",
    "    ...\n",
    "```\n",
    "* Przeglądanie słów w worku od najczęściej do najrzadziej występującego, czyli\n",
    "```\n",
    "for word in bow:\n",
    "  print(word)\n",
    "```\n",
    "    powinniśmy zobaczyć\n",
    "```\n",
    "ala\n",
    "ma\n",
    "kota\n",
    "```\n",
    "* Możliwość dodawania dwóch worków, pisząc\n",
    "```\n",
    "bow1 = BagOfWords(\"ala ma kota ala ma ala\")\n",
    "bow2 = BagOfWords(\"tomek tez ma kota\")\n",
    "bow3 = bow1 + bow2\n",
    "print('tomek' in bow1) # False\n",
    "print('tomek' in bow3) # True\n",
    "print('ala' in bow3) # True\n",
    "print(bow3) # ala:3, ma:3, kota:2, tez:1, tomek:1\n",
    "    ```\n",
    "* Odczytywanie częstości wystąpień słów poprzez nawiasy kwadratowe\n",
    "```\n",
    "print(bow1[\"ala\"]) # 3\n",
    "print(bow3[\"ala\"]) # 3\n",
    "```\n",
    "* Aktualizację cześtości wystąpień\n",
    "```\n",
    "bow3['tomek'] = 10\n",
    "for el in bow3:\n",
    "    print el\n",
    "```\n",
    "    powinno wyświetlić najpierw `tomek`"
   ]
  },
  {
   "cell_type": "code",
   "execution_count": 75,
   "metadata": {
    "collapsed": true
   },
   "outputs": [
    {
     "name": "stdout",
     "output_type": "stream",
     "text": [
      "ala:3, ma:2, kota:1\n",
      "ala:3, ma:2, aaa:1, baba:1, kota:1\n",
      "True\n",
      "ala\n",
      "ma\n",
      "aaa\n",
      "baba\n",
      "kota\n",
      "False\n",
      "True\n",
      "True\n",
      "ala:3, ma:3, kota:2, tez:1, tomek:1\n",
      "3\n",
      "3\n",
      "tomek\n",
      "ala\n",
      "ma\n",
      "kota\n",
      "tez\n"
     ]
    }
   ],
   "source": [
    "from io import TextIOWrapper\n",
    "\n",
    "class BagOfWords:    \n",
    "    def __init__(self, document = None):\n",
    "        self.word_count = defaultdict(self._default_value)\n",
    "        if isinstance(document, str):\n",
    "            for word in document.split(' '):\n",
    "                    self.word_count[word] += 1\n",
    "        elif isinstance(document, TextIOWrapper):\n",
    "            for line in document:\n",
    "                for word in line.rstrip().split(' '):\n",
    "                    self.word_count[word] += 1\n",
    "\n",
    "    def __repr__(self):\n",
    "        str_repr = ''\n",
    "        for key, value in sorted(self.word_count.items(), key=lambda x: (-x[1], x[0])):\n",
    "            str_repr += f'{key}:{value}, '\n",
    "        return str_repr[0:len(str_repr)-2]\n",
    "\n",
    "    def __iter__(self):\n",
    "        for item in sorted(self.word_count.items(), key=lambda x: (-x[1], x[0])):\n",
    "            yield item[0]\n",
    "    \n",
    "    def __contains__(self, item):\n",
    "        return item in self.word_count\n",
    "    \n",
    "    def __add__(self, other_bag):\n",
    "        new_dict = defaultdict(self._default_value)        \n",
    "        for key, item in other_bag.word_count.items():\n",
    "            new_dict[key] += item\n",
    "        \n",
    "        for key, item in self.word_count.items():\n",
    "            new_dict[key] += item\n",
    "        new_bag = BagOfWords()\n",
    "        new_bag.word_count = new_dict\n",
    "        return new_bag\n",
    "\n",
    "    def __getitem__(self, arg):\n",
    "        return self.word_count[arg]\n",
    "    \n",
    "    def __setitem__(self, key, value):\n",
    "        self.word_count[key] = value\n",
    "\n",
    "    def _default_value(self):\n",
    "            return 0\n",
    "\n",
    "\n",
    "bow = BagOfWords(\"ala ma kota ala ma ala\")\n",
    "print(bow)\n",
    "bow = BagOfWords(open(\"./text.txt\"))\n",
    "print(bow)\n",
    "print('baba' in bow)\n",
    "\n",
    "for word in bow:\n",
    "  print(word)\n",
    "\n",
    "bow1 = BagOfWords(\"ala ma kota ala ma ala\")\n",
    "bow2 = BagOfWords(\"tomek tez ma kota\")\n",
    "bow3 = bow1 + bow2\n",
    "print('tomek' in bow1) # False\n",
    "print('tomek' in bow3) # True\n",
    "print('ala' in bow3) # True\n",
    "print(bow3) # ala:3, ma:3, kota:2, tez:1, tomek:1\n",
    "\n",
    "print(bow1[\"ala\"]) # 3\n",
    "print(bow3[\"ala\"]) # 3\n",
    "\n",
    "bow3['tomek'] = 10\n",
    "for el in bow3:\n",
    "    print(el)\n"
   ]
  }
 ],
 "metadata": {
  "kernelspec": {
   "display_name": "Python 3.8.13 ('venv': venv)",
   "language": "python",
   "name": "python3"
  },
  "language_info": {
   "codemirror_mode": {
    "name": "ipython",
    "version": 3
   },
   "file_extension": ".py",
   "mimetype": "text/x-python",
   "name": "python",
   "nbconvert_exporter": "python",
   "pygments_lexer": "ipython3",
   "version": "3.8.13"
  },
  "vscode": {
   "interpreter": {
    "hash": "56d8d5e4409f28601cf5f8bceb8f3ec9ea0f644ed85c6e14f8a0673cf2ede87d"
   }
  }
 },
 "nbformat": 4,
 "nbformat_minor": 2
}
