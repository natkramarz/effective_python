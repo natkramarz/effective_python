{
 "cells": [
  {
   "cell_type": "markdown",
   "metadata": {},
   "source": [
    "## Lab 04"
   ]
  },
  {
   "cell_type": "markdown",
   "metadata": {},
   "source": [
    "## Zadanie 1 (Igor Sieradzki)"
   ]
  },
  {
   "cell_type": "markdown",
   "metadata": {},
   "source": [
    "Funkcja <t>flow_rate</i> do modyfikacji"
   ]
  },
  {
   "cell_type": "code",
   "execution_count": 20,
   "metadata": {
    "collapsed": true
   },
   "outputs": [],
   "source": [
    "def flow_rate(weight, time, period=1, units_per_kg=1):\n",
    "    \"\"\" Funkcja wylicza ile wagi produktu przybyło/ubyło w jednostce czasu \"\"\"\n",
    "    return weight * units_per_kg / (time * period) \n",
    "weight = 0.5\n",
    "time = 3"
   ]
  },
  {
   "cell_type": "code",
   "execution_count": 21,
   "metadata": {
    "collapsed": true
   },
   "outputs": [
    {
     "name": "stdout",
     "output_type": "stream",
     "text": [
      "0.167 kg per second\n"
     ]
    }
   ],
   "source": [
    "flow = flow_rate(weight, time)\n",
    "print(\"{0:.3} kg per second\".format(flow))"
   ]
  },
  {
   "cell_type": "code",
   "execution_count": 22,
   "metadata": {
    "collapsed": true
   },
   "outputs": [],
   "source": [
    "# Zmodyfikuj funckje <i>flow_rate</i> tak, aby poniższe wywołania działały poprawnie.\n"
   ]
  },
  {
   "cell_type": "code",
   "execution_count": 23,
   "metadata": {
    "collapsed": true
   },
   "outputs": [
    {
     "name": "stdout",
     "output_type": "stream",
     "text": [
      "2.7777777777777777 grams per minute\n"
     ]
    }
   ],
   "source": [
    "flow = flow_rate(weight, time, period=60, units_per_kg=1000)\n",
    "print(\"{} grams per minute\".format(flow))"
   ]
  },
  {
   "cell_type": "code",
   "execution_count": 24,
   "metadata": {
    "collapsed": true
   },
   "outputs": [
    {
     "name": "stdout",
     "output_type": "stream",
     "text": [
      "0.167 kg per second\n"
     ]
    }
   ],
   "source": [
    "flow = flow_rate(weight, time, period=1, units_per_kg=1)\n",
    "print(\"{0:.3} kg per second\".format(flow))"
   ]
  },
  {
   "cell_type": "code",
   "execution_count": 25,
   "metadata": {
    "collapsed": true
   },
   "outputs": [
    {
     "name": "stdout",
     "output_type": "stream",
     "text": [
      "0.167 grams per minute\n"
     ]
    }
   ],
   "source": [
    "flow = flow_rate(weight, time)\n",
    "print(\"{0:.3} grams per minute\".format(flow))"
   ]
  },
  {
   "cell_type": "markdown",
   "metadata": {},
   "source": [
    "Wyjaśnić czemu poniższe rzucanie błędu jest porządane"
   ]
  },
  {
   "cell_type": "code",
   "execution_count": 26,
   "metadata": {
    "collapsed": true
   },
   "outputs": [],
   "source": [
    "try:\n",
    "    flow = flow_rate(weight, time, 3600, 2.2)\n",
    "except TypeError:\n",
    "    print(True)"
   ]
  },
  {
   "cell_type": "markdown",
   "metadata": {},
   "source": [
    "## Zadanie 2 (Igor Sieradzki)"
   ]
  },
  {
   "cell_type": "markdown",
   "metadata": {},
   "source": [
    "Dopisz definicje dekoratora _timeit_, który wypisze na wyjscie standardowe czas wywołania udekorowanej funckji np.\n",
    "\n",
    "```\n",
    "@timeit\n",
    "def foo(x):\n",
    "    return x**2\n",
    "    \n",
    "r = foo(2)\n",
    "```\n",
    "wypize: <br>\n",
    "    `Function foo took: 0.00001 seconds` <br>\n",
    "oraz zwróci 4"
   ]
  },
  {
   "cell_type": "code",
   "execution_count": 27,
   "metadata": {
    "collapsed": true
   },
   "outputs": [
    {
     "name": "stdout",
     "output_type": "stream",
     "text": [
      "Fuction squares_list took 0.4879269599914551 seconds\n",
      "Fuction squares_comprehension took 0.41709280014038086 seconds\n",
      "Fuction squares_map took 3.0994415283203125e-06 seconds\n"
     ]
    }
   ],
   "source": [
    "from time import time\n",
    "\n",
    "def timeit(func):\n",
    "    \"\"\" Wypisuje czas wywołania udekorowanej funckji \"\"\"\n",
    "    def timer(*args, **kwargs):\n",
    "        start = time()\n",
    "        result = func(*args, **kwargs)\n",
    "        end = time()\n",
    "        end = print('Fuction {0} took {1} seconds'.format(func.__name__, end - start))\n",
    "        return result\n",
    "    return timer\n",
    "\n",
    "@timeit\n",
    "def squares_list(n):\n",
    "    squares = []\n",
    "    for i in range(n):\n",
    "        squares.append(i ** 2)\n",
    "    return squares\n",
    "\n",
    "@timeit\n",
    "def squares_comprehension(n):\n",
    "    return [i ** 2 for i in range(n)]\n",
    "\n",
    "@timeit\n",
    "def squares_map(n):\n",
    "    return map(lambda x: x**2, range(n))\n",
    "\n",
    "n = 1000000\n",
    "l = squares_list(n)\n",
    "c = squares_comprehension(n)\n",
    "m = squares_map(n)"
   ]
  },
  {
   "cell_type": "markdown",
   "metadata": {},
   "source": [
    "## Zadanie 3 (Igor Sieradzki)"
   ]
  },
  {
   "cell_type": "markdown",
   "metadata": {},
   "source": [
    "Dopisz definicje dekoratora _derivate_ wg. instrukcji w _docstringu_"
   ]
  },
  {
   "cell_type": "code",
   "execution_count": 28,
   "metadata": {
    "collapsed": true
   },
   "outputs": [
    {
     "name": "stdout",
     "output_type": "stream",
     "text": [
      "True\n",
      "True\n",
      "True\n",
      "True\n",
      "1827.4255628697574 1827.415562866287 \t True\n",
      "2504585.7548713684 2504585.7295544315 \t True\n",
      "332.6280326298729 332.6180326300197 \t True\n",
      "82976.0717228055 82976.06672299863 \t True\n",
      "733.5955377493519 733.5855377511363 \t True\n",
      "403610.8158528804 403610.80589821783 \t True\n",
      "681.2508009796147 681.2408009797017 \t True\n",
      "348066.7807161808 348066.77168959915 \t True\n",
      "1055.8387844532263 1055.8287844565975 \t True\n",
      "836080.8312892913 836080.8165653222 \t True\n",
      "1277.5332734978292 1277.523273499577 \t True\n",
      "1224049.299955368 1224049.2857498063 \t True\n",
      "3.415688122148053 3.4056881221480317 \t True\n",
      "8.699084774477228 8.699033689005141 \t True\n",
      "1546.0335024050437 1546.0235024002413 \t True\n",
      "1792641.5205001829 1792641.5024804317 \t True\n",
      "1643.3264855877496 1643.3164855902742 \t True\n",
      "2025366.8308258054 2025366.8038595775 \t True\n",
      "611.63445537386 611.6244553730526 \t True\n",
      "280563.36492300034 280563.3558077874 \t True\n",
      "568.7926550934208 568.7826550945763 \t True\n",
      "242635.28957962987 242635.2815523268 \t True\n",
      "337.2680967200722 337.25809672008467 \t True\n",
      "85307.27289617062 85307.26785244048 \t True\n",
      "731.1468889965909 731.1368889955803 \t True\n",
      "400920.87313532823 400920.86283760157 \t True\n",
      "415.78737603049376 415.7773760307217 \t True\n",
      "129653.12600135802 129653.11981424413 \t True\n",
      "980.1727732585277 980.1627732579503 \t True\n",
      "720539.3090844153 720539.2965605371 \t True\n",
      "1847.1475975471549 1847.1375975420142 \t True\n",
      "2558938.0025863647 2558937.978189963 \t True\n",
      "494.5455916044011 494.53559160470496 \t True\n",
      "183424.09599572417 183424.08852286165 \t True\n",
      "1398.357384558767 1398.3473845582232 \t True\n",
      "1466531.5747261045 1466531.5559256175 \t True\n",
      "1292.1597054228187 1292.1497054197514 \t True\n",
      "1252238.1663322449 1252238.1459122626 \t True\n",
      "919.6595896501094 919.6495896519439 \t True\n",
      "634316.5382742882 634316.5258102416 \t True\n"
     ]
    }
   ],
   "source": [
    "import sys\n",
    "sys.float_info.epsilon # epsilon maszynowy\n",
    "\n",
    "\n",
    "def derivate(epsilon=None):\n",
    "    \"\"\"\n",
    "    Zwraca pochodną funkcji w punkcie, wg. wzoru f'(x) = [f(x+h) - f(x)]/h, \n",
    "    gdzie h jest parametrem dekoratora, jeśli nie zostanie podany, należy przyjąć 1000 * epsilon maszynowy\n",
    "    \"\"\"\n",
    "    def wrapper(f):\n",
    "        def calculate_derivative(x):\n",
    "            return (f(x + epsilon) - f(x)) / epsilon if epsilon else  (f(x + 1000 * sys.float_info.epsilon) - f(x))\n",
    "        return calculate_derivative\n",
    "\n",
    "    return wrapper\n",
    "\n",
    "\n",
    "@derivate(0.01)\n",
    "def f(x):\n",
    "    return x*x\n",
    "\n",
    "@derivate(0.00001)\n",
    "def g(x):\n",
    "    return x*x*x+3\n",
    "\n",
    "def test(a, b, eps=1):\n",
    "    return abs(round(a)-round(b)) < eps\n",
    "\n",
    "print(test(f(100), 200.0))\n",
    "print(round(f(0)) == 0.0)\n",
    "\n",
    "print(test(g(100), 30000.0))\n",
    "print(round(g(0)) == 0.0)\n",
    "\n",
    "from random import random\n",
    "for x in [random()*1000. for _ in range(20)]:\n",
    "    print(f(x), 2*x, '\\t', test(f(x), 2*x))\n",
    "    print(g(x), 3*x**2, '\\t', test(g(x), 3*x**2))"
   ]
  },
  {
   "cell_type": "markdown",
   "metadata": {},
   "source": [
    "## Zadanie 4 (Igor Sieradzki)"
   ]
  },
  {
   "cell_type": "markdown",
   "metadata": {},
   "source": [
    "Dopisz definicje dekoratora _accepts_ wg. instrukcji w _docstringu_"
   ]
  },
  {
   "cell_type": "code",
   "execution_count": 29,
   "metadata": {
    "collapsed": true
   },
   "outputs": [
    {
     "name": "stdout",
     "output_type": "stream",
     "text": [
      "True\n",
      "True\n",
      "True\n",
      "True\n",
      "True\n",
      "True\n",
      "True\n"
     ]
    }
   ],
   "source": [
    "def accepts(*types):\n",
    "    \"\"\"Sprawdza czy udekorowanej funckji zostały podane odpowiednie parametry zdefiniowane \n",
    "       w argumentach dekoratora\"\"\"\n",
    "    def wrapper(f):\n",
    "        def check_types(*args, **kwargs):\n",
    "            for arg, arg_type in zip(args, types):\n",
    "                if not isinstance(arg, arg_type):\n",
    "                    raise TypeError\n",
    "                param_types = {}\n",
    "                for i, type_name in enumerate(f.__code__.co_varnames[:len(types)]):\n",
    "                    param_types[type_name] = types[i]\n",
    "                for param, param_type in kwargs.items():\n",
    "                    if not isinstance(param_type, param_types[param]):\n",
    "                        raise TypeError\n",
    "            return f(*args, **kwargs)\n",
    "        return check_types\n",
    "    return wrapper\n",
    "\n",
    "@accepts(str)\n",
    "def capitalize(word):\n",
    "    return word[0].upper() + word[1:]\n",
    "\n",
    "print(capitalize('ola') == 'Ola')\n",
    "\n",
    "try:\n",
    "    capitalize(2)\n",
    "except TypeError:\n",
    "    print(True)\n",
    "\n",
    "@accepts(float, int)\n",
    "def static_pow(base, exp):\n",
    "    return base ** exp \n",
    "\n",
    "print(static_pow(2., 2) == 4.)\n",
    "print(static_pow(2., exp=2) == 4.)\n",
    "print(static_pow(base=2., exp=2) == 4.)\n",
    "\n",
    "try:\n",
    "    static_pow('x', 10)\n",
    "except TypeError:\n",
    "    print(True)\n",
    "    \n",
    "try:\n",
    "    static_pow(2, 2.2)\n",
    "except TypeError:\n",
    "    print(True)"
   ]
  },
  {
   "cell_type": "markdown",
   "metadata": {},
   "source": [
    "## Zadanie 5 (Igor Sieradzki)"
   ]
  },
  {
   "cell_type": "markdown",
   "metadata": {},
   "source": [
    "Dopisz definicje dekoratora _returns_ wg. instrukcji w _docstringu_"
   ]
  },
  {
   "cell_type": "code",
   "execution_count": 30,
   "metadata": {
    "collapsed": true
   },
   "outputs": [
    {
     "name": "stdout",
     "output_type": "stream",
     "text": [
      "True\n",
      "True\n",
      "True\n",
      "True\n"
     ]
    }
   ],
   "source": [
    "def returns(*types):\n",
    "    \"\"\"Sprawdza czy udekorowana funkcja zwraca poprawne argumenty, zdefiniowane w parametrach dekoratora\"\"\"\n",
    "    def wrapper(f):\n",
    "        def check_return_types(*args, **kargs):\n",
    "            result = f(*args,**kargs)\n",
    "            returned_tuple = (result,) if not isinstance(result, tuple) else result\n",
    "            if len(returned_tuple) != len(types):\n",
    "                raise TypeError\n",
    "            for return_arg, expected_type in zip(returned_tuple, types):\n",
    "                if not isinstance(return_arg, expected_type):\n",
    "                    raise TypeError\n",
    "            return result\n",
    "        return check_return_types\n",
    "    return wrapper\n",
    "\n",
    "\n",
    "@returns(str)\n",
    "def str_only_identity(word):\n",
    "    return word\n",
    "\n",
    "print(str_only_identity('hello') == 'hello')\n",
    "\n",
    "try:\n",
    "    str_only_identity(10)\n",
    "except TypeError:\n",
    "    print(True)\n",
    "    \n",
    "@returns(int, int)\n",
    "def split_indices(x):\n",
    "    return x[0], x[1]\n",
    "\n",
    "print(split_indices(x=[6,9]) == (6,9))\n",
    "\n",
    "try:\n",
    "    split_indices('AB')\n",
    "except TypeError:\n",
    "    print(True)"
   ]
  },
  {
   "cell_type": "markdown",
   "metadata": {},
   "source": [
    "## Zadanie 6 (Igor Sieradzki)\n",
    "Stwórz dekorator cached służący do cachowania wywołań dowolnej funkcji, tzn. chcemy by:\n",
    "* wywołanie funkcji z określonymi argumentami miało miejsce tylko raz\n",
    "* funkcja mogła przyjmować dowolną liczbę nazwanych i nienazwanych argumentów\n",
    "* nie musi reagować poprawnie na domyślne argumenty, tzn. wywołanie funkcji z domyślnymi argumentami a podanie dokładnie takich samych może być traktowane jako dwa różne wywołania\n",
    "* na opakowanej funkcji można wywołać `.cache_reset()`, który usunie cache z pamięci\n",
    "* wywołanie `.cache_status()` zwraca string z opisem w postaci: <br>\n",
    "    `Function FUNCTION_NAME called X times, evaluated Y times`"
   ]
  },
  {
   "cell_type": "code",
   "execution_count": 31,
   "metadata": {
    "collapsed": true
   },
   "outputs": [
    {
     "name": "stdout",
     "output_type": "stream",
     "text": [
      "True\n",
      "True\n",
      "True\n",
      "True\n",
      "True\n",
      "True\n"
     ]
    }
   ],
   "source": [
    "from random import random\n",
    "\n",
    "def cached(func):\n",
    "    cache = {}\n",
    "\n",
    "    def wrapper(*args, **kargs):\n",
    "        nonlocal cache\n",
    "        def cache_reset():\n",
    "            wrapper.cache.clear()\n",
    "        def cache_status():\n",
    "            return 'Function {0} called {1} times, evaluated {2} times'.format(func.__name__, wrapper.call_counter, wrapper.evaluated)\n",
    "\n",
    "        wrapper.cache = cache\n",
    "        wrapper.call_counter = getattr(wrapper,'call_counter', 0) + 1\n",
    "        wrapper.cache_reset = cache_reset\n",
    "        wrapper.cache_status = cache_status\n",
    "\n",
    "        call_args = [x for x in args] \n",
    "        \n",
    "        for param_name in func.__code__.co_varnames[len(args):wrapper.__code__.co_argcount]:\n",
    "                call_args.append(kargs[param_name])\n",
    "\n",
    "        positional_args_names = str(sorted(''.join(func.__code__.co_varnames[:len(args)])))\n",
    "        keyword_args_names = str(sorted(''.join(kargs.keys())))\n",
    "        call_args = (positional_args_names, keyword_args_names, *call_args,)\n",
    "        if call_args in wrapper.cache:\n",
    "            return wrapper.cache[call_args]\n",
    "        \n",
    "        wrapper.cache[call_args] = func(*args, **kargs)\n",
    "        wrapper.evaluated = getattr(wrapper,'evaluated', 0) + 1\n",
    "        return wrapper.cache[call_args] \n",
    "\n",
    "\n",
    "    return wrapper\n",
    "\n",
    "\n",
    "@cached\n",
    "def foo(x, y=1, z=4):\n",
    "    return random()\n",
    "        \n",
    "print(foo(3) == foo(3))\n",
    "print(foo(4) == foo(4))\n",
    "print(foo(3, z=-1, y=3) == foo(3, y=3, z=-1))\n",
    "print(foo(3) != foo(x=3))\n",
    "a = foo(3)\n",
    "foo.cache_reset()\n",
    "print(a != foo(3))\n",
    "print(foo.cache_status() == 'Function foo called 10 times, evaluated 5 times')"
   ]
  },
  {
   "cell_type": "markdown",
   "metadata": {},
   "source": [
    "## Zadanie 7 (Krzysztof Hajto)"
   ]
  },
  {
   "cell_type": "markdown",
   "metadata": {},
   "source": [
    "Napisz dekorator który będzie robić n-krotne złożenie funkcji, gdzie n jest parametrem dekoratora"
   ]
  },
  {
   "cell_type": "code",
   "execution_count": 32,
   "metadata": {
    "collapsed": true
   },
   "outputs": [
    {
     "name": "stdout",
     "output_type": "stream",
     "text": [
      "True\n",
      "True\n",
      "True\n"
     ]
    }
   ],
   "source": [
    "def zlozenie(n):\n",
    "    def wrapper(f):\n",
    "        def decorate(x):\n",
    "            result = f(x)\n",
    "            for _ in range(n - 1):\n",
    "                result = f(result)\n",
    "            return result\n",
    "        return decorate\n",
    "    return wrapper\n",
    "\n",
    "@zlozenie(3)\n",
    "def f1(x):\n",
    "    return x+1\n",
    "\n",
    "@zlozenie(2)\n",
    "def f2(x):\n",
    "    return x*x\n",
    "\n",
    "@zlozenie(5)\n",
    "def f3(word):\n",
    "    return \"\".join(chr(ord(l)+1) for l in word)\n",
    "\n",
    "print(f1(2)==5)\n",
    "print(f2(3)==81)\n",
    "print(f3(\"alamakota\")==\"fqfrfptyf\")"
   ]
  },
  {
   "cell_type": "markdown",
   "metadata": {},
   "source": [
    "## Zadanie 8 (Krzysztof Hajto)"
   ]
  },
  {
   "cell_type": "markdown",
   "metadata": {},
   "source": [
    "Python nie ma wbudowanej instrukcji switch. Ale posiada anonimowe funkcje oraz słowniki. Zaimplementuj poniższy switch w postaci słownika funkcji.\n",
    "`\n",
    "int my_function(x, y) {\n",
    "\n",
    "\n",
    "    switch(x) {\n",
    "        case 1: return y*y;\n",
    "        case 2: return x+y;\n",
    "        case 3: return x*y;\n",
    "        case 4: return 0;\n",
    "    }\n",
    "}\n",
    "`\n",
    "\n",
    "PS. Nigdy nie róbcie tego w faktycznym kodzie :)"
   ]
  },
  {
   "cell_type": "code",
   "execution_count": 34,
   "metadata": {
    "collapsed": true
   },
   "outputs": [
    {
     "name": "stdout",
     "output_type": "stream",
     "text": [
      "True\n",
      "True\n",
      "True\n",
      "True\n"
     ]
    }
   ],
   "source": [
    "def my_function(x, y):\n",
    "    return {\n",
    "        1: lambda y: y * y, \n",
    "        2: lambda y: 2 + y, \n",
    "        3: lambda y: 3 * y, \n",
    "        4: lambda y: 0\n",
    "    }[x](y)\n",
    "\n",
    "print(my_function(1,3)==9)\n",
    "print(my_function(2,4)==6)\n",
    "print(my_function(3,1)==3)\n",
    "print(my_function(4,9)==0)"
   ]
  }
 ],
 "metadata": {
  "kernelspec": {
   "display_name": "Python 3.8.13 ('venv': venv)",
   "language": "python",
   "name": "python3"
  },
  "language_info": {
   "codemirror_mode": {
    "name": "ipython",
    "version": 3
   },
   "file_extension": ".py",
   "mimetype": "text/x-python",
   "name": "python",
   "nbconvert_exporter": "python",
   "pygments_lexer": "ipython3",
   "version": "3.8.13"
  },
  "vscode": {
   "interpreter": {
    "hash": "56d8d5e4409f28601cf5f8bceb8f3ec9ea0f644ed85c6e14f8a0673cf2ede87d"
   }
  }
 },
 "nbformat": 4,
 "nbformat_minor": 2
}
